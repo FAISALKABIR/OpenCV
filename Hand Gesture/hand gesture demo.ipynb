{
 "cells": [
  {
   "cell_type": "code",
   "execution_count": 4,
   "metadata": {},
   "outputs": [],
   "source": [
    "#Hand Gesture Recognition Using Opencv\n",
    "import cv2\n",
    "import numpy as np\n",
    "\n",
    "hand = cv2.imread('Capture.png', 0)\n",
    "\n",
    "ret, the = cv2.threshold(hand, 70,255, cv2.THRESH_BINARY)\n",
    "\n",
    "_,contours,_ = cv2.findContours(the.copy(), cv2.RETR_TREE, cv2.CHAIN_APPROX_SIMPLE)\n",
    "\n",
    "hull = [cv2.convexHull(c) for c in contours]\n",
    "\n",
    "final = cv2.drawContours(hand, hull, -1, (255,0,0))\n",
    "\n",
    "cv2.imshow('Original Image', hand)\n",
    "cv2.imshow('Thresh', the)\n",
    "cv2.imshow('convex Hull', final)\n",
    "\n",
    "cv2.waitKey(0)\n",
    "cv2.destroyAllWindows()"
   ]
  },
  {
   "cell_type": "code",
   "execution_count": null,
   "metadata": {},
   "outputs": [],
   "source": []
  }
 ],
 "metadata": {
  "kernelspec": {
   "display_name": "Python 3",
   "language": "python",
   "name": "python3"
  },
  "language_info": {
   "codemirror_mode": {
    "name": "ipython",
    "version": 3
   },
   "file_extension": ".py",
   "mimetype": "text/x-python",
   "name": "python",
   "nbconvert_exporter": "python",
   "pygments_lexer": "ipython3",
   "version": "3.6.8"
  }
 },
 "nbformat": 4,
 "nbformat_minor": 2
}
